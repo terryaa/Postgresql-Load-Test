{
 "cells": [
  {
   "cell_type": "code",
   "execution_count": null,
   "metadata": {},
   "outputs": [],
   "source": [
    "!pip install psycopg2\n",
    "!pip install memory-profiler"
   ]
  },
  {
   "cell_type": "code",
   "execution_count": null,
   "metadata": {},
   "outputs": [],
   "source": [
    "volume=beer['volume']['data']"
   ]
  },
  {
   "cell_type": "code",
   "execution_count": 1,
   "metadata": {},
   "outputs": [],
   "source": [
    "import datetime\n",
    "\n",
    "def parse_first_brewed(text: str) -> datetime.date:\n",
    "    parts = text.split('/')\n",
    "    if len(parts) == 2:\n",
    "        return datetime.date(int(parts[1]), int(parts[0]), 1)\n",
    "    elif len(parts) == 1:\n",
    "        return datetime.date(int(parts[0]), 1, 1)\n",
    "    else:\n",
    "        assert False, 'Unknown date format'"
   ]
  },
  {
   "cell_type": "code",
   "execution_count": null,
   "metadata": {},
   "outputs": [],
   "source": [
    "parse_first_brewed('09/2007')\n",
    "parse_first_brewed('2006')"
   ]
  },
  {
   "cell_type": "code",
   "execution_count": 2,
   "metadata": {},
   "outputs": [],
   "source": [
    "from typing import Iterator, Dict, Any\n",
    "from urllib.parse import urlencode\n",
    "import requests\n",
    "\n",
    "\n",
    "def iter_beers_from_api(page_size: int = 5) -> Iterator[Dict[str, Any]]:\n",
    "    session = requests.Session()\n",
    "    page = 1\n",
    "    while True:\n",
    "        response = session.get('https://api.punkapi.com/v2/beers?' + urlencode({\n",
    "            'page': page,\n",
    "            'per_page': page_size\n",
    "        }))\n",
    "        response.raise_for_status()\n",
    "\n",
    "        data = response.json()\n",
    "        if not data:\n",
    "            break\n",
    "\n",
    "        yield from data\n",
    "\n",
    "        page += 1"
   ]
  },
  {
   "cell_type": "code",
   "execution_count": 8,
   "metadata": {},
   "outputs": [
    {
     "data": {
      "text/plain": [
       "{'id': 1,\n",
       " 'name': 'Buzz',\n",
       " 'tagline': 'A Real Bitter Experience.',\n",
       " 'first_brewed': '09/2007',\n",
       " 'description': 'A light, crisp and bitter IPA brewed with English and American hops. A small batch brewed only once.',\n",
       " 'image_url': 'https://images.punkapi.com/v2/keg.png',\n",
       " 'abv': 4.5,\n",
       " 'ibu': 60,\n",
       " 'target_fg': 1010,\n",
       " 'target_og': 1044,\n",
       " 'ebc': 20,\n",
       " 'srm': 10,\n",
       " 'ph': 4.4,\n",
       " 'attenuation_level': 75,\n",
       " 'volume': {'value': 20, 'unit': 'litres'},\n",
       " 'boil_volume': {'value': 25, 'unit': 'litres'},\n",
       " 'method': {'mash_temp': [{'temp': {'value': 64, 'unit': 'celsius'},\n",
       "    'duration': 75}],\n",
       "  'fermentation': {'temp': {'value': 19, 'unit': 'celsius'}},\n",
       "  'twist': None},\n",
       " 'ingredients': {'malt': [{'name': 'Maris Otter Extra Pale',\n",
       "    'amount': {'value': 3.3, 'unit': 'kilograms'}},\n",
       "   {'name': 'Caramalt', 'amount': {'value': 0.2, 'unit': 'kilograms'}},\n",
       "   {'name': 'Munich', 'amount': {'value': 0.4, 'unit': 'kilograms'}}],\n",
       "  'hops': [{'name': 'Fuggles',\n",
       "    'amount': {'value': 25, 'unit': 'grams'},\n",
       "    'add': 'start',\n",
       "    'attribute': 'bitter'},\n",
       "   {'name': 'First Gold',\n",
       "    'amount': {'value': 25, 'unit': 'grams'},\n",
       "    'add': 'start',\n",
       "    'attribute': 'bitter'},\n",
       "   {'name': 'Fuggles',\n",
       "    'amount': {'value': 37.5, 'unit': 'grams'},\n",
       "    'add': 'middle',\n",
       "    'attribute': 'flavour'},\n",
       "   {'name': 'First Gold',\n",
       "    'amount': {'value': 37.5, 'unit': 'grams'},\n",
       "    'add': 'middle',\n",
       "    'attribute': 'flavour'},\n",
       "   {'name': 'Cascade',\n",
       "    'amount': {'value': 37.5, 'unit': 'grams'},\n",
       "    'add': 'end',\n",
       "    'attribute': 'flavour'}],\n",
       "  'yeast': 'Wyeast 1056 - American Ale™'},\n",
       " 'food_pairing': ['Spicy chicken tikka masala',\n",
       "  'Grilled chicken quesadilla',\n",
       "  'Caramel toffee cake'],\n",
       " 'brewers_tips': 'The earthy and floral aromas from the hops can be overpowering. Drop a little Cascade in at the end of the boil to lift the profile with a bit of citrus.',\n",
       " 'contributed_by': 'Sam Mason <samjbmason>'}"
      ]
     },
     "execution_count": 8,
     "metadata": {},
     "output_type": "execute_result"
    }
   ],
   "source": [
    "beers = iter_beers_from_api()\n",
    "next(beers)"
   ]
  },
  {
   "cell_type": "code",
   "execution_count": 3,
   "metadata": {
    "scrolled": true
   },
   "outputs": [],
   "source": [
    "import psycopg2"
   ]
  },
  {
   "cell_type": "code",
   "execution_count": 4,
   "metadata": {},
   "outputs": [],
   "source": [
    "connection = psycopg2.connect(\n",
    "    host=\"ec2-18-193-102-202.eu-central-1.compute.amazonaws.com\",\n",
    "    database=\"testload\",\n",
    "    user=\"wems\",\n",
    "    password=\"ejQkffl!\",\n",
    "    port=\"5430\"\n",
    ")\n",
    "connection.autocommit = True"
   ]
  },
  {
   "cell_type": "code",
   "execution_count": null,
   "metadata": {},
   "outputs": [],
   "source": [
    "def create_staging_table(cursor) -> None:\n",
    "    cursor.execute(\"\"\"\n",
    "        DROP TABLE IF EXISTS staging_beers;\n",
    "        CREATE UNLOGGED TABLE staging_beers (\n",
    "            id                  INTEGER,\n",
    "            name                TEXT,\n",
    "            tagline             TEXT,\n",
    "            first_brewed        DATE,\n",
    "            description         TEXT,\n",
    "            image_url           TEXT,\n",
    "            abv                 DECIMAL,\n",
    "            ibu                 DECIMAL,\n",
    "            target_fg           DECIMAL,\n",
    "            target_og           DECIMAL,\n",
    "            ebc                 DECIMAL,\n",
    "            srm                 DECIMAL,\n",
    "            ph                  DECIMAL,\n",
    "            attenuation_level   DECIMAL,\n",
    "            brewers_tips        TEXT,\n",
    "            contributed_by      TEXT,\n",
    "            volume              INTEGER\n",
    "        );\n",
    "    \"\"\")"
   ]
  },
  {
   "cell_type": "code",
   "execution_count": null,
   "metadata": {},
   "outputs": [],
   "source": [
    " with connection.cursor() as cursor:\n",
    "         create_staging_table(cursor)"
   ]
  },
  {
   "cell_type": "code",
   "execution_count": 5,
   "metadata": {},
   "outputs": [],
   "source": [
    "import time\n",
    "from functools import wraps\n",
    "from memory_profiler import memory_usage\n",
    "\n",
    "def profile(fn):\n",
    "    @wraps(fn)\n",
    "    def inner(*args, **kwargs):\n",
    "        fn_kwargs_str = ', '.join(f'{k}={v}' for k, v in kwargs.items())\n",
    "        print(f'\\n{fn.__name__}({fn_kwargs_str})')\n",
    "\n",
    "        # Measure time\n",
    "        t = time.perf_counter()\n",
    "        retval = fn(*args, **kwargs)\n",
    "        elapsed = time.perf_counter() - t\n",
    "        print(f'Time   {elapsed:0.4}')\n",
    "\n",
    "        # Measure memory\n",
    "        mem, retval = memory_usage((fn, args, kwargs), retval=True, timeout=200, interval=1e-7)\n",
    "\n",
    "        print(f'Memory {max(mem) - min(mem)}')\n",
    "        return retval\n",
    "\n",
    "    return inner\n",
    "\n"
   ]
  },
  {
   "cell_type": "code",
   "execution_count": null,
   "metadata": {
    "scrolled": true
   },
   "outputs": [],
   "source": [
    "beers = list(iter_beers_from_api()) * 100\n",
    "\n",
    "len(beers)"
   ]
  },
  {
   "cell_type": "code",
   "execution_count": null,
   "metadata": {},
   "outputs": [],
   "source": [
    "# insert one by one\n",
    "# data를 한개씩 올려서 한개실행, 다음 커서를 다시찾아서 한개올려서 한개실행\n",
    "@profile\n",
    "def insert_one_by_one(connection, beers: Iterator[Dict[str, Any]]) -> None:\n",
    "    with connection.cursor() as cursor:\n",
    "        create_staging_table(cursor)\n",
    "        for beer in beers:\n",
    "            cursor.execute(\"\"\"\n",
    "                INSERT INTO staging_beers VALUES (\n",
    "                    %(id)s,\n",
    "                    %(name)s,\n",
    "                    %(tagline)s,\n",
    "                    %(first_brewed)s,\n",
    "                    %(description)s,\n",
    "                    %(image_url)s,\n",
    "                    %(abv)s,\n",
    "                    %(ibu)s,\n",
    "                    %(target_fg)s,\n",
    "                    %(target_og)s,\n",
    "                    %(ebc)s,\n",
    "                    %(srm)s,\n",
    "                    %(ph)s,\n",
    "                    %(attenuation_level)s,\n",
    "                    %(brewers_tips)s,\n",
    "                    %(contributed_by)s,\n",
    "                    %(volume)s\n",
    "                );\n",
    "            \"\"\", {\n",
    "                **beer,\n",
    "                'first_brewed': parse_first_brewed(beer['first_brewed']),\n",
    "                'volume': beer['volume']['value'],\n",
    "            })"
   ]
  },
  {
   "cell_type": "code",
   "execution_count": null,
   "metadata": {},
   "outputs": [],
   "source": [
    " insert_one_by_one(connection, beers)"
   ]
  },
  {
   "cell_type": "code",
   "execution_count": null,
   "metadata": {},
   "outputs": [],
   "source": [
    "#using executemany\n",
    "# data를 모두 memory상에 올려놓은담에 하나씩실행\n",
    "@profile\n",
    "def insert_executemany(connection, beers: Iterator[Dict[str, Any]]) -> None:\n",
    "    with connection.cursor() as cursor:\n",
    "        create_staging_table(cursor)\n",
    "\n",
    "        all_beers = [{\n",
    "            **beer,\n",
    "            'first_brewed': parse_first_brewed(beer['first_brewed']),\n",
    "            'volume': beer['volume']['value'],\n",
    "        } for beer in beers]\n",
    "\n",
    "        cursor.executemany(\"\"\"\n",
    "            INSERT INTO staging_beers VALUES (\n",
    "                %(id)s,\n",
    "                %(name)s,\n",
    "                %(tagline)s,\n",
    "                %(first_brewed)s,\n",
    "                %(description)s,\n",
    "                %(image_url)s,\n",
    "                %(abv)s,\n",
    "                %(ibu)s,\n",
    "                %(target_fg)s,\n",
    "                %(target_og)s,\n",
    "                %(ebc)s,\n",
    "                %(srm)s,\n",
    "                %(ph)s,\n",
    "                %(attenuation_level)s,\n",
    "                %(brewers_tips)s,\n",
    "                %(contributed_by)s,\n",
    "                %(volume)s\n",
    "            );\n",
    "        \"\"\", all_beers)"
   ]
  },
  {
   "cell_type": "code",
   "execution_count": null,
   "metadata": {},
   "outputs": [],
   "source": [
    "insert_executemany(connection, beers)"
   ]
  },
  {
   "cell_type": "code",
   "execution_count": null,
   "metadata": {},
   "outputs": [],
   "source": [
    "#executemany from iterator\n",
    "#이 경우 iterator라는 포인터를 넘기는것일뿐임으로 메모리에 데이터를 저장하지않는다.\n",
    "#The difference here is that the transformed data is \"streamed\" into executemany using an iterator.\n",
    "#데이터는 stream되어 executemany에 할당된다.\n",
    "\n",
    "@profile\n",
    "def insert_executemany_iterator(connection, beers: Iterator[Dict[str, Any]]) -> None:\n",
    "    with connection.cursor() as cursor:\n",
    "        create_staging_table(cursor)\n",
    "        cursor.executemany(\"\"\"\n",
    "            INSERT INTO staging_beers VALUES (\n",
    "                %(id)s,\n",
    "                %(name)s,\n",
    "                %(tagline)s,\n",
    "                %(first_brewed)s,\n",
    "                %(description)s,\n",
    "                %(image_url)s,\n",
    "                %(abv)s,\n",
    "                %(ibu)s,\n",
    "                %(target_fg)s,\n",
    "                %(target_og)s,\n",
    "                %(ebc)s,\n",
    "                %(srm)s,\n",
    "                %(ph)s,\n",
    "                %(attenuation_level)s,\n",
    "                %(brewers_tips)s,\n",
    "                %(contributed_by)s,\n",
    "                %(volume)s\n",
    "            );\n",
    "        \"\"\", ({\n",
    "            **beer,\n",
    "            'first_brewed': parse_first_brewed(beer['first_brewed']),\n",
    "            'volume': beer['volume']['value'],\n",
    "        } for beer in beers))"
   ]
  },
  {
   "cell_type": "code",
   "execution_count": null,
   "metadata": {},
   "outputs": [],
   "source": [
    "insert_executemany_iterator(connection, beers)"
   ]
  },
  {
   "cell_type": "code",
   "execution_count": null,
   "metadata": {},
   "outputs": [],
   "source": [
    "\n",
    "#The current implementation of executemany() is (using an extremely charitable understatement) \n",
    "#not particularly performing. These functions can be used to speed up the repeated execution of a statement \n",
    "#against a set of parameters. By reducing the number of server roundtrips the performance can be orders of \n",
    "#magnitude better than using executemany().\n"
   ]
  },
  {
   "cell_type": "code",
   "execution_count": null,
   "metadata": {},
   "outputs": [],
   "source": [
    "# server roundtrip을 줄여 실행시간을 줄인다.\n",
    "\n",
    "import psycopg2.extras\n",
    "\n",
    "@profile\n",
    "def insert_execute_batch(connection, beers: Iterator[Dict[str, Any]]) -> None:\n",
    "    with connection.cursor() as cursor:\n",
    "        create_staging_table(cursor)\n",
    "\n",
    "        all_beers = [{\n",
    "            **beer,\n",
    "            'first_brewed': parse_first_brewed(beer['first_brewed']),\n",
    "            'volume': beer['volume']['value'],\n",
    "        } for beer in beers]\n",
    "\n",
    "        psycopg2.extras.execute_batch(cursor, \"\"\"\n",
    "            INSERT INTO staging_beers VALUES (\n",
    "                %(id)s,\n",
    "                %(name)s,\n",
    "                %(tagline)s,\n",
    "                %(first_brewed)s,\n",
    "                %(description)s,\n",
    "                %(image_url)s,\n",
    "                %(abv)s,\n",
    "                %(ibu)s,\n",
    "                %(target_fg)s,\n",
    "                %(target_og)s,\n",
    "                %(ebc)s,\n",
    "                %(srm)s,\n",
    "                %(ph)s,\n",
    "                %(attenuation_level)s,\n",
    "                %(brewers_tips)s,\n",
    "                %(contributed_by)s,\n",
    "                %(volume)s\n",
    "            );\n",
    "        \"\"\", all_beers)"
   ]
  },
  {
   "cell_type": "code",
   "execution_count": null,
   "metadata": {},
   "outputs": [],
   "source": [
    "insert_execute_batch(connection, beers)"
   ]
  },
  {
   "cell_type": "code",
   "execution_count": null,
   "metadata": {},
   "outputs": [],
   "source": [
    "#execute batch from iterator\n",
    "#속도와 메모리가 모두 개선되었다.\n",
    "\n",
    "@profile\n",
    "def insert_execute_batch_iterator(connection, beers: Iterator[Dict[str, Any]]) -> None:\n",
    "    with connection.cursor() as cursor:\n",
    "        create_staging_table(cursor)\n",
    "\n",
    "        iter_beers = ({\n",
    "            **beer,\n",
    "            'first_brewed': parse_first_brewed(beer['first_brewed']),\n",
    "            'volume': beer['volume']['value'],\n",
    "        } for beer in beers)\n",
    "\n",
    "        psycopg2.extras.execute_batch(cursor, \"\"\"\n",
    "            INSERT INTO staging_beers VALUES (\n",
    "                %(id)s,\n",
    "                %(name)s,\n",
    "                %(tagline)s,\n",
    "                %(first_brewed)s,\n",
    "                %(description)s,\n",
    "                %(image_url)s,\n",
    "                %(abv)s,\n",
    "                %(ibu)s,\n",
    "                %(target_fg)s,\n",
    "                %(target_og)s,\n",
    "                %(ebc)s,\n",
    "                %(srm)s,\n",
    "                %(ph)s,\n",
    "                %(attenuation_level)s,\n",
    "                %(brewers_tips)s,\n",
    "                %(contributed_by)s,\n",
    "                %(volume)s\n",
    "            );\n",
    "        \"\"\", iter_beers)"
   ]
  },
  {
   "cell_type": "code",
   "execution_count": null,
   "metadata": {},
   "outputs": [],
   "source": [
    "insert_execute_batch_iterator(connection, beers)"
   ]
  },
  {
   "cell_type": "code",
   "execution_count": null,
   "metadata": {},
   "outputs": [],
   "source": [
    "#page_size=100이 디폴트. page_size는 values에 기입되는 column 갯수. page_size보다 column이 많으면 insert문을 2번실행한다.\n",
    "#page_size – maximum number of argslist items to include in every statement. \n",
    "#If there are more items the function will execute more than one statement.\n",
    "\n",
    "#Test 결과\n",
    "#1: The results are similar to the results we got inserting rows one by one.\n",
    "#100: This is the default page_size, so the results are similar to our previous benchmark.\n",
    "#1000: The timing here is about 40% faster, and the memory is low.\n",
    "#10000: Timing is not much faster than with a page size of 1000, but the memory is significantly higher.\n",
    "\n",
    "#The results show that there is a tradeoff between memory and speed. In this case, it seems that the sweet spot is page size of 1000.\n",
    "@profile\n",
    "def insert_execute_batch_iterator(\n",
    "    connection,\n",
    "    beers: Iterator[Dict[str, Any]],\n",
    "    page_size: int = 100,\n",
    ") -> None:\n",
    "    with connection.cursor() as cursor:\n",
    "        create_staging_table(cursor)\n",
    "\n",
    "        iter_beers = ({\n",
    "            **beer,\n",
    "            'first_brewed': parse_first_brewed(beer['first_brewed']),\n",
    "            'volume': beer['volume']['value'],\n",
    "        } for beer in beers)\n",
    "\n",
    "        psycopg2.extras.execute_batch(cursor, \"\"\"\n",
    "            INSERT INTO staging_beers VALUES (\n",
    "                %(id)s,\n",
    "                %(name)s,\n",
    "                %(tagline)s,\n",
    "                %(first_brewed)s,\n",
    "                %(description)s,\n",
    "                %(image_url)s,\n",
    "                %(abv)s,\n",
    "                %(ibu)s,\n",
    "                %(target_fg)s,\n",
    "                %(target_og)s,\n",
    "                %(ebc)s,\n",
    "                %(srm)s,\n",
    "                %(ph)s,\n",
    "                %(attenuation_level)s,\n",
    "                %(brewers_tips)s,\n",
    "                %(contributed_by)s,\n",
    "                %(volume)s\n",
    "            );\n",
    "        \"\"\", iter_beers, page_size=page_size)"
   ]
  },
  {
   "cell_type": "code",
   "execution_count": null,
   "metadata": {},
   "outputs": [],
   "source": [
    "insert_execute_batch_iterator(connection, iter(beers), page_size=1000)\n",
    "insert_execute_batch_iterator(page_size=1000)"
   ]
  },
  {
   "cell_type": "code",
   "execution_count": null,
   "metadata": {},
   "outputs": [],
   "source": [
    " Execute Values  Execute a statement using VALUES with a sequence of parameters.\n",
    "과장님이 말씀하신 bulk insert방식\n",
    "values뒤에 값들을 리스트형태로써서 한번에넣음."
   ]
  },
  {
   "cell_type": "code",
   "execution_count": null,
   "metadata": {},
   "outputs": [],
   "source": [
    "import psycopg2.extras\n",
    "\n",
    "@profile\n",
    "def insert_execute_values(connection, beers: Iterator[Dict[str, Any]]) -> None:\n",
    "    with connection.cursor() as cursor:\n",
    "        create_staging_table(cursor)\n",
    "        psycopg2.extras.execute_values(cursor, \"\"\"\n",
    "            INSERT INTO staging_beers VALUES %s;\n",
    "        \"\"\", [(\n",
    "            beer['id'],\n",
    "            beer['name'],\n",
    "            beer['tagline'],\n",
    "            parse_first_brewed(beer['first_brewed']),\n",
    "            beer['description'],\n",
    "            beer['image_url'],\n",
    "            beer['abv'],\n",
    "            beer['ibu'],\n",
    "            beer['target_fg'],\n",
    "            beer['target_og'],\n",
    "            beer['ebc'],\n",
    "            beer['srm'],\n",
    "            beer['ph'],\n",
    "            beer['attenuation_level'],\n",
    "            beer['brewers_tips'],\n",
    "            beer['contributed_by'],\n",
    "            beer['volume']['value'],\n",
    "        ) for beer in beers])"
   ]
  },
  {
   "cell_type": "code",
   "execution_count": null,
   "metadata": {},
   "outputs": [],
   "source": [
    "insert_execute_values(connection, beers)"
   ]
  },
  {
   "cell_type": "code",
   "execution_count": null,
   "metadata": {},
   "outputs": [],
   "source": [
    "execute values from iterator"
   ]
  },
  {
   "cell_type": "code",
   "execution_count": null,
   "metadata": {},
   "outputs": [],
   "source": [
    "#메모리적어짐\n",
    "def insert_execute_values_iterator(connection, beers: Iterator[Dict[str, Any]]) -> None:\n",
    "    with connection.cursor() as cursor:\n",
    "        create_staging_table(cursor)\n",
    "        psycopg2.extras.execute_values(cursor, \"\"\"\n",
    "            INSERT INTO staging_beers VALUES %s;\n",
    "        \"\"\", ((\n",
    "            beer['id'],\n",
    "            beer['name'],\n",
    "            beer['tagline'],\n",
    "            parse_first_brewed(beer['first_brewed']),\n",
    "            beer['description'],\n",
    "            beer['image_url'],\n",
    "            beer['abv'],\n",
    "            beer['ibu'],\n",
    "            beer['target_fg'],\n",
    "            beer['target_og'],\n",
    "            beer['ebc'],\n",
    "            beer['srm'],\n",
    "            beer['ph'],\n",
    "            beer['attenuation_level'],\n",
    "            beer['brewers_tips'],\n",
    "            beer['contributed_by'],\n",
    "            beer['volume']['value'],\n",
    "        ) for beer in beers))"
   ]
  },
  {
   "cell_type": "code",
   "execution_count": null,
   "metadata": {},
   "outputs": [],
   "source": [
    "insert_execute_values_iterator(connection, beers)"
   ]
  },
  {
   "cell_type": "code",
   "execution_count": null,
   "metadata": {},
   "outputs": [],
   "source": [
    "execute_values from iterator with page_size parameter"
   ]
  },
  {
   "cell_type": "code",
   "execution_count": null,
   "metadata": {},
   "outputs": [],
   "source": [
    "\n",
    "@profile\n",
    "def insert_execute_values_iterator(\n",
    "    connection,\n",
    "    beers: Iterator[Dict[str, Any]],\n",
    "    page_size: int = 100,\n",
    ") -> None:\n",
    "    with connection.cursor() as cursor:\n",
    "        create_staging_table(cursor)\n",
    "        psycopg2.extras.execute_values(cursor, \"\"\"\n",
    "            INSERT INTO staging_beers VALUES %s;\n",
    "        \"\"\", ((\n",
    "            beer['id'],\n",
    "            beer['name'],\n",
    "            beer['tagline'],\n",
    "            parse_first_brewed(beer['first_brewed']),\n",
    "            beer['description'],\n",
    "            beer['image_url'],\n",
    "            beer['abv'],\n",
    "            beer['ibu'],\n",
    "            beer['target_fg'],\n",
    "            beer['target_og'],\n",
    "            beer['ebc'],\n",
    "            beer['srm'],\n",
    "            beer['ph'],\n",
    "            beer['attenuation_level'],\n",
    "            beer['brewers_tips'],\n",
    "            beer['contributed_by'],\n",
    "            beer['volume']['value'],\n",
    "        ) for beer in beers), page_size=page_size)"
   ]
  },
  {
   "cell_type": "code",
   "execution_count": 6,
   "metadata": {},
   "outputs": [
    {
     "ename": "NameError",
     "evalue": "name 'Optional' is not defined",
     "output_type": "error",
     "traceback": [
      "\u001b[1;31m---------------------------------------------------------------------------\u001b[0m",
      "\u001b[1;31mNameError\u001b[0m                                 Traceback (most recent call last)",
      "\u001b[1;32m<ipython-input-6-74ffda60e4fa>\u001b[0m in \u001b[0;36m<module>\u001b[1;34m\u001b[0m\n\u001b[0;32m      1\u001b[0m \u001b[1;32mimport\u001b[0m \u001b[0mio\u001b[0m\u001b[1;33m\u001b[0m\u001b[1;33m\u001b[0m\u001b[0m\n\u001b[0;32m      2\u001b[0m \u001b[1;33m\u001b[0m\u001b[0m\n\u001b[1;32m----> 3\u001b[1;33m \u001b[1;32mdef\u001b[0m \u001b[0mclean_csv_value\u001b[0m\u001b[1;33m(\u001b[0m\u001b[0mvalue\u001b[0m\u001b[1;33m:\u001b[0m \u001b[0mOptional\u001b[0m\u001b[1;33m[\u001b[0m\u001b[0mAny\u001b[0m\u001b[1;33m]\u001b[0m\u001b[1;33m)\u001b[0m \u001b[1;33m->\u001b[0m \u001b[0mstr\u001b[0m\u001b[1;33m:\u001b[0m\u001b[1;33m\u001b[0m\u001b[1;33m\u001b[0m\u001b[0m\n\u001b[0m\u001b[0;32m      4\u001b[0m     \u001b[1;32mif\u001b[0m \u001b[0mvalue\u001b[0m \u001b[1;32mis\u001b[0m \u001b[1;32mNone\u001b[0m\u001b[1;33m:\u001b[0m\u001b[1;33m\u001b[0m\u001b[1;33m\u001b[0m\u001b[0m\n\u001b[0;32m      5\u001b[0m         \u001b[1;32mreturn\u001b[0m \u001b[1;34mr'\\N'\u001b[0m\u001b[1;33m\u001b[0m\u001b[1;33m\u001b[0m\u001b[0m\n",
      "\u001b[1;31mNameError\u001b[0m: name 'Optional' is not defined"
     ]
    }
   ],
   "source": [
    "import io\n",
    "\n",
    "def clean_csv_value(value: Optional[Any]) -> str:\n",
    "    if value is None:\n",
    "        return r'\\N'\n",
    "    return str(value).replace('\\n', '\\\\n')\n",
    "\n",
    "@profile\n",
    "def copy_stringio(connection, beers: Iterator[Dict[str, Any]]) -> None:\n",
    "    with connection.cursor() as cursor:\n",
    "        create_staging_table(cursor)\n",
    "        csv_file_like_object = io.StringIO()\n",
    "        for beer in beers:\n",
    "            csv_file_like_object.write('|'.join(map(clean_csv_value, (\n",
    "                beer['id'],\n",
    "                beer['name'],\n",
    "                beer['tagline'],\n",
    "                parse_first_brewed(beer['first_brewed']),\n",
    "                beer['description'],\n",
    "                beer['image_url'],\n",
    "                beer['abv'],\n",
    "                beer['ibu'],\n",
    "                beer['target_fg'],\n",
    "                beer['target_og'],\n",
    "                beer['ebc'],\n",
    "                beer['srm'],\n",
    "                beer['ph'],\n",
    "                beer['attenuation_level'],\n",
    "                beer['contributed_by'],\n",
    "                beer['brewers_tips'],\n",
    "                beer['volume']['value'],\n",
    "            ))) + '\\n')\n",
    "        csv_file_like_object.seek(0)\n",
    "        cursor.copy_from(csv_file_like_object, 'staging_beers', sep='|')"
   ]
  },
  {
   "cell_type": "code",
   "execution_count": 7,
   "metadata": {},
   "outputs": [],
   "source": [
    "from Modules import testload"
   ]
  },
  {
   "cell_type": "code",
   "execution_count": 9,
   "metadata": {},
   "outputs": [
    {
     "ename": "AttributeError",
     "evalue": "module 'Modules.testload' has no attribute 'copy_stringio'",
     "output_type": "error",
     "traceback": [
      "\u001b[1;31m---------------------------------------------------------------------------\u001b[0m",
      "\u001b[1;31mAttributeError\u001b[0m                            Traceback (most recent call last)",
      "\u001b[1;32m<ipython-input-9-03c7aab7c28c>\u001b[0m in \u001b[0;36m<module>\u001b[1;34m\u001b[0m\n\u001b[1;32m----> 1\u001b[1;33m \u001b[0mtestload\u001b[0m\u001b[1;33m.\u001b[0m\u001b[0mcopy_stringio\u001b[0m\u001b[1;33m(\u001b[0m\u001b[0mconnection\u001b[0m\u001b[1;33m,\u001b[0m\u001b[0mbeers\u001b[0m\u001b[1;33m)\u001b[0m\u001b[1;33m\u001b[0m\u001b[1;33m\u001b[0m\u001b[0m\n\u001b[0m",
      "\u001b[1;31mAttributeError\u001b[0m: module 'Modules.testload' has no attribute 'copy_stringio'"
     ]
    }
   ],
   "source": [
    "testload.copy_stringio(connection,beers)"
   ]
  }
 ],
 "metadata": {
  "kernelspec": {
   "display_name": "Python 3",
   "language": "python",
   "name": "python3"
  },
  "language_info": {
   "codemirror_mode": {
    "name": "ipython",
    "version": 3
   },
   "file_extension": ".py",
   "mimetype": "text/x-python",
   "name": "python",
   "nbconvert_exporter": "python",
   "pygments_lexer": "ipython3",
   "version": "3.8.3"
  }
 },
 "nbformat": 4,
 "nbformat_minor": 4
}
